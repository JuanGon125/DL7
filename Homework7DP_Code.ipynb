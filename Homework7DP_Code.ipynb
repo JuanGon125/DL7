{
  "cells": [
    {
      "cell_type": "code",
      "execution_count": null,
      "metadata": {
        "colab": {
          "base_uri": "https://localhost:8080/"
        },
        "id": "5m4PocU2Z3jI",
        "outputId": "619fef5d-b50c-46c2-d184-a3c42274e136"
      },
      "outputs": [
        {
          "name": "stdout",
          "output_type": "stream",
          "text": [
            "Downloading from https://www.kaggle.com/api/v1/datasets/download/adilshamim8/nlp-task?dataset_version_number=1...\n"
          ]
        },
        {
          "name": "stderr",
          "output_type": "stream",
          "text": [
            "100%|██████████| 1.20M/1.20M [00:01<00:00, 1.25MB/s]"
          ]
        },
        {
          "name": "stdout",
          "output_type": "stream",
          "text": [
            "Extracting files...\n",
            "Data source import complete.\n"
          ]
        },
        {
          "name": "stderr",
          "output_type": "stream",
          "text": [
            "\n"
          ]
        }
      ],
      "source": [
        "import kagglehub\n",
        "adilshamim8_nlp_task_path = kagglehub.dataset_download('adilshamim8/nlp-task')\n",
        "\n",
        "print('Data source import complete.')\n"
      ]
    },
    {
      "cell_type": "markdown",
      "metadata": {
        "execution": {
          "iopub.execute_input": "2025-04-19T14:01:39.711792Z",
          "iopub.status.busy": "2025-04-19T14:01:39.711209Z",
          "iopub.status.idle": "2025-04-19T14:01:39.884013Z",
          "shell.execute_reply": "2025-04-19T14:01:39.88303Z",
          "shell.execute_reply.started": "2025-04-19T14:01:39.711761Z"
        },
        "id": "A3HojMJrZ3jJ"
      },
    },
    {
      "cell_type": "code",
      "execution_count": null,
      "metadata": {
        "execution": {
          "iopub.execute_input": "2025-04-19T14:36:15.900833Z",
          "iopub.status.busy": "2025-04-19T14:36:15.900565Z",
          "iopub.status.idle": "2025-04-19T14:36:16.040879Z",
          "shell.execute_reply": "2025-04-19T14:36:16.040121Z",
          "shell.execute_reply.started": "2025-04-19T14:36:15.900816Z"
        },
        "id": "FIAcNTh3Z3jL",
        "trusted": true
      },
      "outputs": [],
      "source": [
        "import pandas as pd\n",
        "import ast\n",
        "\n",
        "# Carga el dataset\n",
        "genres_df = pd.read_csv('/content/sample_data/movies_genres.csv')  # Columns: id, name\n",
        "movies_df = pd.read_csv('/content/sample_data/movies_overview.csv')  # Columns: title, overview, genre_ids\n",
        "\n",
        "# Convertir genre_ids de cadena a lista\n",
        "movies_df['genre_ids'] = movies_df['genre_ids'].apply(ast.literal_eval)\n",
        "\n",
        "# Asignar identificadores de género a nombres\n",
        "genre_map = dict(zip(genres_df['id'], genres_df['name']))\n",
        "movies_df['genre_names'] = movies_df['genre_ids'].apply(lambda x: [genre_map.get(i, 'Unknown') for i in x])"
      ]
    },
    {
      "cell_type": "code",
      "execution_count": 3,
      "metadata": {
        "colab": {
          "base_uri": "https://localhost:8080/",
          "height": 206
        },
        "execution": {
          "iopub.execute_input": "2025-04-19T14:36:16.042238Z",
          "iopub.status.busy": "2025-04-19T14:36:16.04201Z",
          "iopub.status.idle": "2025-04-19T14:36:16.051812Z",
          "shell.execute_reply": "2025-04-19T14:36:16.051131Z",
          "shell.execute_reply.started": "2025-04-19T14:36:16.04222Z"
        },
        "id": "cwr1etuSZ3jL",
        "outputId": "af2a0011-d7f4-4ef2-e0f0-58a6bdf85caf",
        "trusted": true
      },
      "outputs": [
        {
          "data": {
            "application/vnd.google.colaboratory.intrinsic+json": {
              "summary": "{\n  \"name\": \"movies_df\",\n  \"rows\": 9980,\n  \"fields\": [\n    {\n      \"column\": \"title\",\n      \"properties\": {\n        \"dtype\": \"string\",\n        \"num_unique_values\": 9615,\n        \"samples\": [\n          \"Urban Legends: Final Cut\",\n          \"Stand by Me Doraemon\",\n          \"Sanjuro\"\n        ],\n        \"semantic_type\": \"\",\n        \"description\": \"\"\n      }\n    },\n    {\n      \"column\": \"overview\",\n      \"properties\": {\n        \"dtype\": \"string\",\n        \"num_unique_values\": 9971,\n        \"samples\": [\n          \"During World War II, Steve Rogers is a sickly man from Brooklyn who's transformed into super-soldier Captain America to aid in the war effort. Rogers must stop the Red Skull \\u2013 Adolf Hitler's ruthless head of weaponry, and the leader of an organization that intends to use a mysterious device of untold powers for world domination.\",\n          \"A woman\\u2019s lover and her ex-boyfriend take justice into their own hands after she becomes the victim of a rapist. Because some acts can\\u2019t be undone. Because man is an animal. Because the desire for vengeance is a natural impulse. Because most crimes remain unpunished.\",\n          \"A Catholic school newcomer falls in with a clique of teen witches who wield their powers against all who dare to cross them -- be they teachers, rivals or meddlesome parents.\"\n        ],\n        \"semantic_type\": \"\",\n        \"description\": \"\"\n      }\n    },\n    {\n      \"column\": \"genre_ids\",\n      \"properties\": {\n        \"dtype\": \"object\",\n        \"semantic_type\": \"\",\n        \"description\": \"\"\n      }\n    },\n    {\n      \"column\": \"genre_names\",\n      \"properties\": {\n        \"dtype\": \"object\",\n        \"semantic_type\": \"\",\n        \"description\": \"\"\n      }\n    }\n  ]\n}",
              "type": "dataframe",
              "variable_name": "movies_df"
            },
            "text/html": [
              "\n",
              "  <div id=\"df-edb4334d-9193-45fb-888b-2b9235b9e372\" class=\"colab-df-container\">\n",
              "    <div>\n",
              "<style scoped>\n",
              "    .dataframe tbody tr th:only-of-type {\n",
              "        vertical-align: middle;\n",
              "    }\n",
              "\n",
              "    .dataframe tbody tr th {\n",
              "        vertical-align: top;\n",
              "    }\n",
              "\n",
              "    .dataframe thead th {\n",
              "        text-align: right;\n",
              "    }\n",
              "</style>\n",
              "<table border=\"1\" class=\"dataframe\">\n",
              "  <thead>\n",
              "    <tr style=\"text-align: right;\">\n",
              "      <th></th>\n",
              "      <th>title</th>\n",
              "      <th>overview</th>\n",
              "      <th>genre_ids</th>\n",
              "      <th>genre_names</th>\n",
              "    </tr>\n",
              "  </thead>\n",
              "  <tbody>\n",
              "    <tr>\n",
              "      <th>0</th>\n",
              "      <td>The Shawshank Redemption</td>\n",
              "      <td>Imprisoned in the 1940s for the double murder ...</td>\n",
              "      <td>[18, 80]</td>\n",
              "      <td>[Drama, Crime]</td>\n",
              "    </tr>\n",
              "    <tr>\n",
              "      <th>1</th>\n",
              "      <td>The Godfather</td>\n",
              "      <td>Spanning the years 1945 to 1955, a chronicle o...</td>\n",
              "      <td>[18, 80]</td>\n",
              "      <td>[Drama, Crime]</td>\n",
              "    </tr>\n",
              "    <tr>\n",
              "      <th>2</th>\n",
              "      <td>The Godfather Part II</td>\n",
              "      <td>In the continuing saga of the Corleone crime f...</td>\n",
              "      <td>[18, 80]</td>\n",
              "      <td>[Drama, Crime]</td>\n",
              "    </tr>\n",
              "    <tr>\n",
              "      <th>3</th>\n",
              "      <td>Schindler's List</td>\n",
              "      <td>The true story of how businessman Oskar Schind...</td>\n",
              "      <td>[18, 36, 10752]</td>\n",
              "      <td>[Drama, History, War]</td>\n",
              "    </tr>\n",
              "    <tr>\n",
              "      <th>4</th>\n",
              "      <td>12 Angry Men</td>\n",
              "      <td>The defense and the prosecution have rested an...</td>\n",
              "      <td>[18]</td>\n",
              "      <td>[Drama]</td>\n",
              "    </tr>\n",
              "  </tbody>\n",
              "</table>\n",
              "</div>\n",
              "    <div class=\"colab-df-buttons\">\n",
              "\n",
              "  <div class=\"colab-df-container\">\n",
              "    <button class=\"colab-df-convert\" onclick=\"convertToInteractive('df-edb4334d-9193-45fb-888b-2b9235b9e372')\"\n",
              "            title=\"Convert this dataframe to an interactive table.\"\n",
              "            style=\"display:none;\">\n",
              "\n",
              "  <svg xmlns=\"http://www.w3.org/2000/svg\" height=\"24px\" viewBox=\"0 -960 960 960\">\n",
              "    <path d=\"M120-120v-720h720v720H120Zm60-500h600v-160H180v160Zm220 220h160v-160H400v160Zm0 220h160v-160H400v160ZM180-400h160v-160H180v160Zm440 0h160v-160H620v160ZM180-180h160v-160H180v160Zm440 0h160v-160H620v160Z\"/>\n",
              "  </svg>\n",
              "    </button>\n",
              "\n",
              "  <style>\n",
              "    .colab-df-container {\n",
              "      display:flex;\n",
              "      gap: 12px;\n",
              "    }\n",
              "\n",
              "    .colab-df-convert {\n",
              "      background-color: #E8F0FE;\n",
              "      border: none;\n",
              "      border-radius: 50%;\n",
              "      cursor: pointer;\n",
              "      display: none;\n",
              "      fill: #1967D2;\n",
              "      height: 32px;\n",
              "      padding: 0 0 0 0;\n",
              "      width: 32px;\n",
              "    }\n",
              "\n",
              "    .colab-df-convert:hover {\n",
              "      background-color: #E2EBFA;\n",
              "      box-shadow: 0px 1px 2px rgba(60, 64, 67, 0.3), 0px 1px 3px 1px rgba(60, 64, 67, 0.15);\n",
              "      fill: #174EA6;\n",
              "    }\n",
              "\n",
              "    .colab-df-buttons div {\n",
              "      margin-bottom: 4px;\n",
              "    }\n",
              "\n",
              "    [theme=dark] .colab-df-convert {\n",
              "      background-color: #3B4455;\n",
              "      fill: #D2E3FC;\n",
              "    }\n",
              "\n",
              "    [theme=dark] .colab-df-convert:hover {\n",
              "      background-color: #434B5C;\n",
              "      box-shadow: 0px 1px 3px 1px rgba(0, 0, 0, 0.15);\n",
              "      filter: drop-shadow(0px 1px 2px rgba(0, 0, 0, 0.3));\n",
              "      fill: #FFFFFF;\n",
              "    }\n",
              "  </style>\n",
              "\n",
              "    <script>\n",
              "      const buttonEl =\n",
              "        document.querySelector('#df-edb4334d-9193-45fb-888b-2b9235b9e372 button.colab-df-convert');\n",
              "      buttonEl.style.display =\n",
              "        google.colab.kernel.accessAllowed ? 'block' : 'none';\n",
              "\n",
              "      async function convertToInteractive(key) {\n",
              "        const element = document.querySelector('#df-edb4334d-9193-45fb-888b-2b9235b9e372');\n",
              "        const dataTable =\n",
              "          await google.colab.kernel.invokeFunction('convertToInteractive',\n",
              "                                                    [key], {});\n",
              "        if (!dataTable) return;\n",
              "\n",
              "        const docLinkHtml = 'Like what you see? Visit the ' +\n",
              "          '<a target=\"_blank\" href=https://colab.research.google.com/notebooks/data_table.ipynb>data table notebook</a>'\n",
              "          + ' to learn more about interactive tables.';\n",
              "        element.innerHTML = '';\n",
              "        dataTable['output_type'] = 'display_data';\n",
              "        await google.colab.output.renderOutput(dataTable, element);\n",
              "        const docLink = document.createElement('div');\n",
              "        docLink.innerHTML = docLinkHtml;\n",
              "        element.appendChild(docLink);\n",
              "      }\n",
              "    </script>\n",
              "  </div>\n",
              "\n",
              "\n",
              "    <div id=\"df-a5444a4b-3593-4fcc-a6a7-395bce946fa1\">\n",
              "      <button class=\"colab-df-quickchart\" onclick=\"quickchart('df-a5444a4b-3593-4fcc-a6a7-395bce946fa1')\"\n",
              "                title=\"Suggest charts\"\n",
              "                style=\"display:none;\">\n",
              "\n",
              "<svg xmlns=\"http://www.w3.org/2000/svg\" height=\"24px\"viewBox=\"0 0 24 24\"\n",
              "     width=\"24px\">\n",
              "    <g>\n",
              "        <path d=\"M19 3H5c-1.1 0-2 .9-2 2v14c0 1.1.9 2 2 2h14c1.1 0 2-.9 2-2V5c0-1.1-.9-2-2-2zM9 17H7v-7h2v7zm4 0h-2V7h2v10zm4 0h-2v-4h2v4z\"/>\n",
              "    </g>\n",
              "</svg>\n",
              "      </button>\n",
              "\n",
              "<style>\n",
              "  .colab-df-quickchart {\n",
              "      --bg-color: #E8F0FE;\n",
              "      --fill-color: #1967D2;\n",
              "      --hover-bg-color: #E2EBFA;\n",
              "      --hover-fill-color: #174EA6;\n",
              "      --disabled-fill-color: #AAA;\n",
              "      --disabled-bg-color: #DDD;\n",
              "  }\n",
              "\n",
              "  [theme=dark] .colab-df-quickchart {\n",
              "      --bg-color: #3B4455;\n",
              "      --fill-color: #D2E3FC;\n",
              "      --hover-bg-color: #434B5C;\n",
              "      --hover-fill-color: #FFFFFF;\n",
              "      --disabled-bg-color: #3B4455;\n",
              "      --disabled-fill-color: #666;\n",
              "  }\n",
              "\n",
              "  .colab-df-quickchart {\n",
              "    background-color: var(--bg-color);\n",
              "    border: none;\n",
              "    border-radius: 50%;\n",
              "    cursor: pointer;\n",
              "    display: none;\n",
              "    fill: var(--fill-color);\n",
              "    height: 32px;\n",
              "    padding: 0;\n",
              "    width: 32px;\n",
              "  }\n",
              "\n",
              "  .colab-df-quickchart:hover {\n",
              "    background-color: var(--hover-bg-color);\n",
              "    box-shadow: 0 1px 2px rgba(60, 64, 67, 0.3), 0 1px 3px 1px rgba(60, 64, 67, 0.15);\n",
              "    fill: var(--button-hover-fill-color);\n",
              "  }\n",
              "\n",
              "  .colab-df-quickchart-complete:disabled,\n",
              "  .colab-df-quickchart-complete:disabled:hover {\n",
              "    background-color: var(--disabled-bg-color);\n",
              "    fill: var(--disabled-fill-color);\n",
              "    box-shadow: none;\n",
              "  }\n",
              "\n",
              "  .colab-df-spinner {\n",
              "    border: 2px solid var(--fill-color);\n",
              "    border-color: transparent;\n",
              "    border-bottom-color: var(--fill-color);\n",
              "    animation:\n",
              "      spin 1s steps(1) infinite;\n",
              "  }\n",
              "\n",
              "  @keyframes spin {\n",
              "    0% {\n",
              "      border-color: transparent;\n",
              "      border-bottom-color: var(--fill-color);\n",
              "      border-left-color: var(--fill-color);\n",
              "    }\n",
              "    20% {\n",
              "      border-color: transparent;\n",
              "      border-left-color: var(--fill-color);\n",
              "      border-top-color: var(--fill-color);\n",
              "    }\n",
              "    30% {\n",
              "      border-color: transparent;\n",
              "      border-left-color: var(--fill-color);\n",
              "      border-top-color: var(--fill-color);\n",
              "      border-right-color: var(--fill-color);\n",
              "    }\n",
              "    40% {\n",
              "      border-color: transparent;\n",
              "      border-right-color: var(--fill-color);\n",
              "      border-top-color: var(--fill-color);\n",
              "    }\n",
              "    60% {\n",
              "      border-color: transparent;\n",
              "      border-right-color: var(--fill-color);\n",
              "    }\n",
              "    80% {\n",
              "      border-color: transparent;\n",
              "      border-right-color: var(--fill-color);\n",
              "      border-bottom-color: var(--fill-color);\n",
              "    }\n",
              "    90% {\n",
              "      border-color: transparent;\n",
              "      border-bottom-color: var(--fill-color);\n",
              "    }\n",
              "  }\n",
              "</style>\n",
              "\n",
              "      <script>\n",
              "        async function quickchart(key) {\n",
              "          const quickchartButtonEl =\n",
              "            document.querySelector('#' + key + ' button');\n",
              "          quickchartButtonEl.disabled = true;  // To prevent multiple clicks.\n",
              "          quickchartButtonEl.classList.add('colab-df-spinner');\n",
              "          try {\n",
              "            const charts = await google.colab.kernel.invokeFunction(\n",
              "                'suggestCharts', [key], {});\n",
              "          } catch (error) {\n",
              "            console.error('Error during call to suggestCharts:', error);\n",
              "          }\n",
              "          quickchartButtonEl.classList.remove('colab-df-spinner');\n",
              "          quickchartButtonEl.classList.add('colab-df-quickchart-complete');\n",
              "        }\n",
              "        (() => {\n",
              "          let quickchartButtonEl =\n",
              "            document.querySelector('#df-a5444a4b-3593-4fcc-a6a7-395bce946fa1 button');\n",
              "          quickchartButtonEl.style.display =\n",
              "            google.colab.kernel.accessAllowed ? 'block' : 'none';\n",
              "        })();\n",
              "      </script>\n",
              "    </div>\n",
              "\n",
              "    </div>\n",
              "  </div>\n"
            ],
            "text/plain": [
              "                      title  \\\n",
              "0  The Shawshank Redemption   \n",
              "1             The Godfather   \n",
              "2     The Godfather Part II   \n",
              "3          Schindler's List   \n",
              "4              12 Angry Men   \n",
              "\n",
              "                                            overview        genre_ids  \\\n",
              "0  Imprisoned in the 1940s for the double murder ...         [18, 80]   \n",
              "1  Spanning the years 1945 to 1955, a chronicle o...         [18, 80]   \n",
              "2  In the continuing saga of the Corleone crime f...         [18, 80]   \n",
              "3  The true story of how businessman Oskar Schind...  [18, 36, 10752]   \n",
              "4  The defense and the prosecution have rested an...             [18]   \n",
              "\n",
              "             genre_names  \n",
              "0         [Drama, Crime]  \n",
              "1         [Drama, Crime]  \n",
              "2         [Drama, Crime]  \n",
              "3  [Drama, History, War]  \n",
              "4                [Drama]  "
            ]
          },
          "execution_count": 3,
          "metadata": {},
          "output_type": "execute_result"
        }
      ],
      "source": [
        "movies_df.head()"
      ]
    },
    {
      "cell_type": "markdown",
      "metadata": {
        "id": "auAedOsaZ3jM"
      },
      "source": [
        "******Text Cleaning (NLP Preprocessing)******\n"
      ]
    },
    {
      "cell_type": "code",
      "execution_count": null,
      "metadata": {
        "colab": {
          "base_uri": "https://localhost:8080/"
        },
        "execution": {
          "iopub.execute_input": "2025-04-19T14:36:16.053132Z",
          "iopub.status.busy": "2025-04-19T14:36:16.05265Z",
          "iopub.status.idle": "2025-04-19T14:36:17.109797Z",
          "shell.execute_reply": "2025-04-19T14:36:17.109276Z",
          "shell.execute_reply.started": "2025-04-19T14:36:16.053106Z"
        },
        "id": "m6lxolF4Z3jM",
        "outputId": "7a3bf656-9241-469b-9cee-5105e7c5aed2",
        "trusted": true
      },
      "outputs": [
        {
          "name": "stderr",
          "output_type": "stream",
          "text": [
            "[nltk_data] Downloading package stopwords to /root/nltk_data...\n",
            "[nltk_data]   Unzipping corpora/stopwords.zip.\n",
            "[nltk_data] Downloading package wordnet to /root/nltk_data...\n"
          ]
        }
      ],
      "source": [
        "import nltk\n",
        "from nltk.corpus import stopwords\n",
        "from nltk.stem import WordNetLemmatizer\n",
        "import string\n",
        "\n",
        "nltk.download('stopwords')\n",
        "nltk.download('wordnet')\n",
        "\n",
        "stop_words = set(stopwords.words('english'))\n",
        "lemmatizer = WordNetLemmatizer()\n",
        "\n",
        "def clean_text(text):\n",
        "    # Remove la puntuacion\n",
        "    text = text.translate(str.maketrans('', '', string.punctuation))\n",
        "    # Deja todas las letras en minusculas\n",
        "    text = text.lower()\n",
        "    # Eliminar palabras vacías y lematizar\n",
        "    tokens = text.split()\n",
        "    tokens = [lemmatizer.lemmatize(word) for word in tokens if word not in stop_words]\n",
        "    return ' '.join(tokens)\n",
        "\n",
        "movies_df['cleaned_overview'] = movies_df['overview'].apply(clean_text)"
      ]
    },
    {
      "cell_type": "code",
      "execution_count": null,
      "metadata": {
        "colab": {
          "base_uri": "https://localhost:8080/"
        },
        "execution": {
          "iopub.execute_input": "2025-04-19T14:36:17.111624Z",
          "iopub.status.busy": "2025-04-19T14:36:17.111411Z",
          "iopub.status.idle": "2025-04-19T14:36:17.122227Z",
          "shell.execute_reply": "2025-04-19T14:36:17.121481Z",
          "shell.execute_reply.started": "2025-04-19T14:36:17.111608Z"
        },
        "id": "E7sPHaQCZ3jM",
        "outputId": "39cfea3c-c20f-4b21-d5eb-d5454699cce5",
        "trusted": true
      },
      "outputs": [
        {
          "name": "stdout",
          "output_type": "stream",
          "text": [
            "Empty overviews: 0\n"
          ]
        }
      ],
      "source": [
        "# Comprobar vistas generales NaN/vacías\n",
        "print(f\"Empty overviews: {movies_df['overview'].isna().sum()}\")\n",
        "movies_df = movies_df.dropna(subset=['overview'])  # Drop rows with NaN"
      ]
    },
    {
      "cell_type": "code",
      "execution_count": 6,
      "metadata": {
        "colab": {
          "base_uri": "https://localhost:8080/"
        },
        "execution": {
          "iopub.execute_input": "2025-04-19T14:36:17.123745Z",
          "iopub.status.busy": "2025-04-19T14:36:17.123047Z",
          "iopub.status.idle": "2025-04-19T14:36:17.14094Z",
          "shell.execute_reply": "2025-04-19T14:36:17.14041Z",
          "shell.execute_reply.started": "2025-04-19T14:36:17.123726Z"
        },
        "id": "QWhBCZtlZ3jN",
        "outputId": "ef75a8fc-332f-418d-90d0-19d8b32e2c5f",
        "trusted": true
      },
      "outputs": [
        {
          "name": "stdout",
          "output_type": "stream",
          "text": [
            "Available genres: ['Action', 'Adventure', 'Animation', 'Comedy', 'Crime', 'Drama', 'Family', 'Fantasy', 'History', 'Horror', 'Music', 'Mystery', 'Romance', 'Science Fiction', 'TV Movie', 'Thriller', 'War', 'Western']\n"
          ]
        }
      ],
      "source": [
        "all_genres = set()\n",
        "for genres in movies_df['genre_names']:\n",
        "    all_genres.update(genres)\n",
        "\n",
        "print(\"Available genres:\", sorted(all_genres))"
      ]
    },
    {
      "cell_type": "markdown",
      "metadata": {
        "id": "jFK6LaCgZ3jN"
      },
      "source": [
        "*******EDA*******"
      ]
    },
    {
      "cell_type": "code",
      "execution_count": null,
      "metadata": {
        "colab": {
          "base_uri": "https://localhost:8080/",
          "height": 653
        },
        "execution": {
          "iopub.execute_input": "2025-04-19T14:36:17.141913Z",
          "iopub.status.busy": "2025-04-19T14:36:17.141679Z",
          "iopub.status.idle": "2025-04-19T14:36:17.498699Z",
          "shell.execute_reply": "2025-04-19T14:36:17.497902Z",
          "shell.execute_reply.started": "2025-04-19T14:36:17.141889Z"
        },
        "id": "ZPOsJP21Z3jN",
        "outputId": "609b3e62-07af-4ff0-87b4-36f56db5347b",
        "trusted": true
      },
      "outputs": [
        {
          "data": {
            "image/png": "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",
            "text/plain": [
              "<Figure size 1200x600 with 1 Axes>"
            ]
          },
          "metadata": {},
          "output_type": "display_data"
        }
      ],
      "source": [
        "import matplotlib.pyplot as plt\n",
        "\n",
        "# Conteo de generos\n",
        "all_genres = [genre for sublist in movies_df['genre_names'] for genre in sublist]\n",
        "genre_counts = pd.Series(all_genres).value_counts()\n",
        "\n",
        "# Grafica de los generos mas frecuentes\n",
        "plt.figure(figsize=(12, 6))\n",
        "genre_counts.head(10).plot(kind='bar', color='skyblue')\n",
        "plt.title(\"Top 10 Movie Genres\")\n",
        "plt.xlabel(\"Genre\")\n",
        "plt.ylabel(\"Count\")\n",
        "plt.show()"
      ]
    },
    {
      "cell_type": "markdown",
      "metadata": {
        "id": "IUGSIKtDZ3jO"
      },
      "source": [
        "*****Classification*****"
      ]
    },
    {
      "cell_type": "code",
      "execution_count": 8,
      "metadata": {
        "execution": {
          "iopub.execute_input": "2025-04-19T14:37:04.961061Z",
          "iopub.status.busy": "2025-04-19T14:37:04.960533Z",
          "iopub.status.idle": "2025-04-19T14:37:04.965004Z",
          "shell.execute_reply": "2025-04-19T14:37:04.96425Z",
          "shell.execute_reply.started": "2025-04-19T14:37:04.961039Z"
        },
        "id": "T1hoeeA9Z3jO",
        "trusted": true
      },
      "outputs": [],
      "source": [
        "from sklearn.decomposition import LatentDirichletAllocation\n",
        "from sklearn.multiclass import OneVsRestClassifier\n",
        "from sklearn.linear_model import LogisticRegression\n",
        "from sklearn.preprocessing import MultiLabelBinarizer\n",
        "from sklearn.model_selection import train_test_split\n",
        "from sklearn.metrics import classification_report\n",
        "import numpy as np\n",
        "from collections import Counter\n",
        "from sklearn.feature_extraction.text import TfidfVectorizer"
      ]
    },
    {
      "cell_type": "code",
      "execution_count": null,
      "metadata": {
        "colab": {
          "base_uri": "https://localhost:8080/"
        },
        "execution": {
          "iopub.execute_input": "2025-04-19T14:37:05.460529Z",
          "iopub.status.busy": "2025-04-19T14:37:05.459913Z",
          "iopub.status.idle": "2025-04-19T14:37:08.886895Z",
          "shell.execute_reply": "2025-04-19T14:37:08.885363Z",
          "shell.execute_reply.started": "2025-04-19T14:37:05.460496Z"
        },
        "id": "2qBF6M9XZ3jO",
        "outputId": "57d00443-7400-4361-a05c-1eccb78bd218",
        "trusted": true
      },
      "outputs": [
        {
          "name": "stdout",
          "output_type": "stream",
          "text": [
            "                 precision    recall  f1-score   support\n",
            "\n",
            "         Action       0.80      0.40      0.53       476\n",
            "      Adventure       0.73      0.18      0.29       326\n",
            "      Animation       0.89      0.04      0.08       191\n",
            "         Comedy       0.73      0.51      0.60       721\n",
            "          Crime       0.82      0.24      0.37       333\n",
            "          Drama       0.70      0.61      0.65       905\n",
            "         Family       0.83      0.12      0.22       233\n",
            "        Fantasy       0.76      0.11      0.20       228\n",
            "        History       0.50      0.01      0.02        86\n",
            "         Horror       0.91      0.21      0.34       297\n",
            "          Music       1.00      0.02      0.04        55\n",
            "        Mystery       0.81      0.07      0.12       200\n",
            "        Romance       0.81      0.23      0.36       360\n",
            "Science Fiction       0.94      0.25      0.40       248\n",
            "       TV Movie       0.00      0.00      0.00        29\n",
            "       Thriller       0.71      0.36      0.48       563\n",
            "            War       1.00      0.11      0.20        53\n",
            "        Western       0.00      0.00      0.00        33\n",
            "\n",
            "      micro avg       0.75      0.33      0.45      5337\n",
            "      macro avg       0.72      0.19      0.27      5337\n",
            "   weighted avg       0.77      0.33      0.42      5337\n",
            "    samples avg       0.61      0.38      0.43      5337\n",
            "\n"
          ]
        }
      ],
      "source": [
        "# Binariza los generos (ejemplo [drama, comedy] → [1, 0, 1, ...])\n",
        "mlb = MultiLabelBinarizer()\n",
        "y = mlb.fit_transform(movies_df['genre_names'])\n",
        "\n",
        "# Extrae cuenta con TF-IDF\n",
        "tfidf = TfidfVectorizer(max_features=5000)\n",
        "X = tfidf.fit_transform(movies_df['cleaned_overview'])\n",
        "\n",
        "# Divide el data tes en entrenamiento y prueba\n",
        "X_train, X_test, y_train, y_test = train_test_split(X, y, test_size=0.2, random_state=42)\n",
        "\n",
        "# Agrega un clasificador OneVsRest\n",
        "clf = OneVsRestClassifier(LogisticRegression(max_iter=1000))\n",
        "clf.fit(X_train, y_train)\n",
        "\n",
        "# valoración\n",
        "y_pred = clf.predict(X_test)\n",
        "print(classification_report(y_test, y_pred, target_names=mlb.classes_, zero_division=0))"
      ]
    },
    {
      "cell_type": "code",
      "execution_count": null,
      "metadata": {
        "execution": {
          "iopub.execute_input": "2025-04-19T14:37:11.525935Z",
          "iopub.status.busy": "2025-04-19T14:37:11.525432Z",
          "iopub.status.idle": "2025-04-19T14:37:24.564808Z",
          "shell.execute_reply": "2025-04-19T14:37:24.563986Z",
          "shell.execute_reply.started": "2025-04-19T14:37:11.525912Z"
        },
        "id": "tNfoQmdtZ3jO",
        "trusted": true
      },
      "outputs": [],
      "source": [
        "import tensorflow as tf\n",
        "from tensorflow.keras.preprocessing.text import Tokenizer\n",
        "from tensorflow.keras.preprocessing.sequence import pad_sequences\n",
        "from sklearn.preprocessing import MultiLabelBinarizer\n",
        "from sklearn.model_selection import train_test_split\n",
        "import warnings\n",
        "warnings.filterwarnings(\"ignore\")\n",
        "\n",
        "# Codificación de género multietiqueta\n",
        "mlb = MultiLabelBinarizer()\n",
        "y = mlb.fit_transform(movies_df['genre_names'])\n",
        "\n",
        "# Tokenización de texto\n",
        "tokenizer = Tokenizer(num_words=10000)\n",
        "tokenizer.fit_on_texts(movies_df['cleaned_overview'])\n",
        "X_seq = tokenizer.texts_to_sequences(movies_df['cleaned_overview'])\n",
        "X_pad = pad_sequences(X_seq, maxlen=200, padding='post')\n",
        "\n",
        "# División de prueba\n",
        "X_train, X_test, y_train, y_test = train_test_split(X_pad, y, test_size=0.2, random_state=42)"
      ]
    },
    {
      "cell_type": "code",
      "execution_count": null,
      "metadata": {
        "colab": {
          "base_uri": "https://localhost:8080/",
          "height": 306
        },
        "execution": {
          "iopub.execute_input": "2025-04-19T14:38:35.507048Z",
          "iopub.status.busy": "2025-04-19T14:38:35.506781Z",
          "iopub.status.idle": "2025-04-19T14:38:35.557472Z",
          "shell.execute_reply": "2025-04-19T14:38:35.556773Z",
          "shell.execute_reply.started": "2025-04-19T14:38:35.507028Z"
        },
        "id": "_GwF2BxzZ3jP",
        "outputId": "1e8c35ba-ed01-4fea-b84f-47ccafb377c5",
        "trusted": true
      },
      "outputs": [
        {
          "data": {
            "text/html": [
              "<pre style=\"white-space:pre;overflow-x:auto;line-height:normal;font-family:Menlo,'DejaVu Sans Mono',consolas,'Courier New',monospace\"><span style=\"font-weight: bold\">Model: \"sequential\"</span>\n",
              "</pre>\n"
            ],
            "text/plain": [
              "\u001b[1mModel: \"sequential\"\u001b[0m\n"
            ]
          },
          "metadata": {},
          "output_type": "display_data"
        },
        {
          "data": {
            "text/html": [
              "<pre style=\"white-space:pre;overflow-x:auto;line-height:normal;font-family:Menlo,'DejaVu Sans Mono',consolas,'Courier New',monospace\">┏━━━━━━━━━━━━━━━━━━━━━━━━━━━━━━━━━┳━━━━━━━━━━━━━━━━━━━━━━━━┳━━━━━━━━━━━━━━━┓\n",
              "┃<span style=\"font-weight: bold\"> Layer (type)                    </span>┃<span style=\"font-weight: bold\"> Output Shape           </span>┃<span style=\"font-weight: bold\">       Param # </span>┃\n",
              "┡━━━━━━━━━━━━━━━━━━━━━━━━━━━━━━━━━╇━━━━━━━━━━━━━━━━━━━━━━━━╇━━━━━━━━━━━━━━━┩\n",
              "│ embedding (<span style=\"color: #0087ff; text-decoration-color: #0087ff\">Embedding</span>)           │ ?                      │   <span style=\"color: #00af00; text-decoration-color: #00af00\">0</span> (unbuilt) │\n",
              "├─────────────────────────────────┼────────────────────────┼───────────────┤\n",
              "│ bidirectional (<span style=\"color: #0087ff; text-decoration-color: #0087ff\">Bidirectional</span>)   │ ?                      │   <span style=\"color: #00af00; text-decoration-color: #00af00\">0</span> (unbuilt) │\n",
              "├─────────────────────────────────┼────────────────────────┼───────────────┤\n",
              "│ bidirectional_1 (<span style=\"color: #0087ff; text-decoration-color: #0087ff\">Bidirectional</span>) │ ?                      │   <span style=\"color: #00af00; text-decoration-color: #00af00\">0</span> (unbuilt) │\n",
              "├─────────────────────────────────┼────────────────────────┼───────────────┤\n",
              "│ dense (<span style=\"color: #0087ff; text-decoration-color: #0087ff\">Dense</span>)                   │ ?                      │   <span style=\"color: #00af00; text-decoration-color: #00af00\">0</span> (unbuilt) │\n",
              "├─────────────────────────────────┼────────────────────────┼───────────────┤\n",
              "│ dense_1 (<span style=\"color: #0087ff; text-decoration-color: #0087ff\">Dense</span>)                 │ ?                      │   <span style=\"color: #00af00; text-decoration-color: #00af00\">0</span> (unbuilt) │\n",
              "└─────────────────────────────────┴────────────────────────┴───────────────┘\n",
              "</pre>\n"
            ],
            "text/plain": [
              "┏━━━━━━━━━━━━━━━━━━━━━━━━━━━━━━━━━┳━━━━━━━━━━━━━━━━━━━━━━━━┳━━━━━━━━━━━━━━━┓\n",
              "┃\u001b[1m \u001b[0m\u001b[1mLayer (type)                   \u001b[0m\u001b[1m \u001b[0m┃\u001b[1m \u001b[0m\u001b[1mOutput Shape          \u001b[0m\u001b[1m \u001b[0m┃\u001b[1m \u001b[0m\u001b[1m      Param #\u001b[0m\u001b[1m \u001b[0m┃\n",
              "┡━━━━━━━━━━━━━━━━━━━━━━━━━━━━━━━━━╇━━━━━━━━━━━━━━━━━━━━━━━━╇━━━━━━━━━━━━━━━┩\n",
              "│ embedding (\u001b[38;5;33mEmbedding\u001b[0m)           │ ?                      │   \u001b[38;5;34m0\u001b[0m (unbuilt) │\n",
              "├─────────────────────────────────┼────────────────────────┼───────────────┤\n",
              "│ bidirectional (\u001b[38;5;33mBidirectional\u001b[0m)   │ ?                      │   \u001b[38;5;34m0\u001b[0m (unbuilt) │\n",
              "├─────────────────────────────────┼────────────────────────┼───────────────┤\n",
              "│ bidirectional_1 (\u001b[38;5;33mBidirectional\u001b[0m) │ ?                      │   \u001b[38;5;34m0\u001b[0m (unbuilt) │\n",
              "├─────────────────────────────────┼────────────────────────┼───────────────┤\n",
              "│ dense (\u001b[38;5;33mDense\u001b[0m)                   │ ?                      │   \u001b[38;5;34m0\u001b[0m (unbuilt) │\n",
              "├─────────────────────────────────┼────────────────────────┼───────────────┤\n",
              "│ dense_1 (\u001b[38;5;33mDense\u001b[0m)                 │ ?                      │   \u001b[38;5;34m0\u001b[0m (unbuilt) │\n",
              "└─────────────────────────────────┴────────────────────────┴───────────────┘\n"
            ]
          },
          "metadata": {},
          "output_type": "display_data"
        },
        {
          "data": {
            "text/html": [
              "<pre style=\"white-space:pre;overflow-x:auto;line-height:normal;font-family:Menlo,'DejaVu Sans Mono',consolas,'Courier New',monospace\"><span style=\"font-weight: bold\"> Total params: </span><span style=\"color: #00af00; text-decoration-color: #00af00\">0</span> (0.00 B)\n",
              "</pre>\n"
            ],
            "text/plain": [
              "\u001b[1m Total params: \u001b[0m\u001b[38;5;34m0\u001b[0m (0.00 B)\n"
            ]
          },
          "metadata": {},
          "output_type": "display_data"
        },
        {
          "data": {
            "text/html": [
              "<pre style=\"white-space:pre;overflow-x:auto;line-height:normal;font-family:Menlo,'DejaVu Sans Mono',consolas,'Courier New',monospace\"><span style=\"font-weight: bold\"> Trainable params: </span><span style=\"color: #00af00; text-decoration-color: #00af00\">0</span> (0.00 B)\n",
              "</pre>\n"
            ],
            "text/plain": [
              "\u001b[1m Trainable params: \u001b[0m\u001b[38;5;34m0\u001b[0m (0.00 B)\n"
            ]
          },
          "metadata": {},
          "output_type": "display_data"
        },
        {
          "data": {
            "text/html": [
              "<pre style=\"white-space:pre;overflow-x:auto;line-height:normal;font-family:Menlo,'DejaVu Sans Mono',consolas,'Courier New',monospace\"><span style=\"font-weight: bold\"> Non-trainable params: </span><span style=\"color: #00af00; text-decoration-color: #00af00\">0</span> (0.00 B)\n",
              "</pre>\n"
            ],
            "text/plain": [
              "\u001b[1m Non-trainable params: \u001b[0m\u001b[38;5;34m0\u001b[0m (0.00 B)\n"
            ]
          },
          "metadata": {},
          "output_type": "display_data"
        }
      ],
      "source": [
        "from tensorflow.keras.models import Sequential\n",
        "from tensorflow.keras.layers import Embedding, LSTM, Dense, Dropout, Bidirectional\n",
        "\n",
        "model = Sequential([\n",
        "    Embedding(input_dim=10000, output_dim=128, input_length=200),\n",
        "    Bidirectional(LSTM(64, return_sequences=True)),\n",
        "    Bidirectional(LSTM(32)),\n",
        "    Dense(128, activation='relu'),\n",
        "    Dense(y.shape[1], activation='sigmoid')  # Salida multietiqueta\n",
        "])\n",
        "\n",
        "model.compile(\n",
        "    optimizer='adam',\n",
        "    loss='binary_crossentropy',\n",
        "    metrics=['accuracy', tf.keras.metrics.Precision(), tf.keras.metrics.Recall()]\n",
        ")\n",
        "\n",
        "model.summary()"
      ]
    },
    {
      "cell_type": "code",
      "execution_count": 12,
      "metadata": {
        "colab": {
          "base_uri": "https://localhost:8080/"
        },
        "execution": {
          "iopub.execute_input": "2025-04-19T14:40:38.648541Z",
          "iopub.status.busy": "2025-04-19T14:40:38.648263Z",
          "iopub.status.idle": "2025-04-19T14:41:44.084291Z",
          "shell.execute_reply": "2025-04-19T14:41:44.083553Z",
          "shell.execute_reply.started": "2025-04-19T14:40:38.648522Z"
        },
        "id": "k_qs_338Z3jP",
        "outputId": "517d0038-1e24-49c3-94cb-3e098ab99f21",
        "trusted": true
      },
      "outputs": [
        {
          "name": "stdout",
          "output_type": "stream",
          "text": [
            "Epoch 1/30\n",
            "\u001b[1m125/125\u001b[0m \u001b[32m━━━━━━━━━━━━━━━━━━━━\u001b[0m\u001b[37m\u001b[0m \u001b[1m19s\u001b[0m 47ms/step - accuracy: 0.1849 - loss: 0.4593 - precision: 0.2266 - recall: 0.1234 - val_accuracy: 0.2094 - val_loss: 0.3674 - val_precision: 0.0000e+00 - val_recall: 0.0000e+00\n",
            "Epoch 2/30\n",
            "\u001b[1m125/125\u001b[0m \u001b[32m━━━━━━━━━━━━━━━━━━━━\u001b[0m\u001b[37m\u001b[0m \u001b[1m5s\u001b[0m 36ms/step - accuracy: 0.2227 - loss: 0.3653 - precision: 0.4240 - recall: 0.0400 - val_accuracy: 0.2094 - val_loss: 0.3671 - val_precision: 0.4602 - val_recall: 0.1668\n",
            "Epoch 3/30\n",
            "\u001b[1m125/125\u001b[0m \u001b[32m━━━━━━━━━━━━━━━━━━━━\u001b[0m\u001b[37m\u001b[0m \u001b[1m5s\u001b[0m 42ms/step - accuracy: 0.2369 - loss: 0.3624 - precision: 0.5362 - recall: 0.0533 - val_accuracy: 0.2189 - val_loss: 0.3487 - val_precision: 0.5390 - val_recall: 0.1503\n",
            "Epoch 4/30\n",
            "\u001b[1m125/125\u001b[0m \u001b[32m━━━━━━━━━━━━━━━━━━━━\u001b[0m\u001b[37m\u001b[0m \u001b[1m10s\u001b[0m 39ms/step - accuracy: 0.3583 - loss: 0.3249 - precision: 0.6071 - recall: 0.2136 - val_accuracy: 0.3262 - val_loss: 0.3334 - val_precision: 0.5779 - val_recall: 0.2044\n",
            "Epoch 5/30\n",
            "\u001b[1m125/125\u001b[0m \u001b[32m━━━━━━━━━━━━━━━━━━━━\u001b[0m\u001b[37m\u001b[0m \u001b[1m5s\u001b[0m 36ms/step - accuracy: 0.4651 - loss: 0.2979 - precision: 0.6593 - recall: 0.3059 - val_accuracy: 0.3888 - val_loss: 0.3283 - val_precision: 0.6006 - val_recall: 0.2355\n",
            "Epoch 6/30\n",
            "\u001b[1m125/125\u001b[0m \u001b[32m━━━━━━━━━━━━━━━━━━━━\u001b[0m\u001b[37m\u001b[0m \u001b[1m5s\u001b[0m 36ms/step - accuracy: 0.4993 - loss: 0.2756 - precision: 0.7024 - recall: 0.3799 - val_accuracy: 0.3602 - val_loss: 0.3116 - val_precision: 0.5913 - val_recall: 0.3976\n",
            "Epoch 7/30\n",
            "\u001b[1m125/125\u001b[0m \u001b[32m━━━━━━━━━━━━━━━━━━━━\u001b[0m\u001b[37m\u001b[0m \u001b[1m6s\u001b[0m 51ms/step - accuracy: 0.5503 - loss: 0.2269 - precision: 0.7488 - recall: 0.5655 - val_accuracy: 0.4168 - val_loss: 0.3154 - val_precision: 0.6018 - val_recall: 0.4103\n",
            "Epoch 8/30\n",
            "\u001b[1m125/125\u001b[0m \u001b[32m━━━━━━━━━━━━━━━━━━━━\u001b[0m\u001b[37m\u001b[0m \u001b[1m5s\u001b[0m 38ms/step - accuracy: 0.5713 - loss: 0.1958 - precision: 0.7865 - recall: 0.6373 - val_accuracy: 0.3983 - val_loss: 0.3227 - val_precision: 0.5987 - val_recall: 0.4574\n",
            "Epoch 9/30\n",
            "\u001b[1m125/125\u001b[0m \u001b[32m━━━━━━━━━━━━━━━━━━━━\u001b[0m\u001b[37m\u001b[0m \u001b[1m6s\u001b[0m 44ms/step - accuracy: 0.5754 - loss: 0.1746 - precision: 0.8159 - recall: 0.6947 - val_accuracy: 0.4043 - val_loss: 0.3397 - val_precision: 0.5988 - val_recall: 0.4510\n",
            "Epoch 10/30\n",
            "\u001b[1m125/125\u001b[0m \u001b[32m━━━━━━━━━━━━━━━━━━━━\u001b[0m\u001b[37m\u001b[0m \u001b[1m9s\u001b[0m 38ms/step - accuracy: 0.5939 - loss: 0.1554 - precision: 0.8470 - recall: 0.7292 - val_accuracy: 0.3858 - val_loss: 0.3624 - val_precision: 0.5871 - val_recall: 0.4737\n",
            "Epoch 11/30\n",
            "\u001b[1m125/125\u001b[0m \u001b[32m━━━━━━━━━━━━━━━━━━━━\u001b[0m\u001b[37m\u001b[0m \u001b[1m5s\u001b[0m 37ms/step - accuracy: 0.5840 - loss: 0.1429 - precision: 0.8621 - recall: 0.7580 - val_accuracy: 0.3632 - val_loss: 0.3858 - val_precision: 0.5747 - val_recall: 0.4778\n",
            "Epoch 12/30\n",
            "\u001b[1m125/125\u001b[0m \u001b[32m━━━━━━━━━━━━━━━━━━━━\u001b[0m\u001b[37m\u001b[0m \u001b[1m5s\u001b[0m 35ms/step - accuracy: 0.5840 - loss: 0.1307 - precision: 0.8782 - recall: 0.7823 - val_accuracy: 0.3732 - val_loss: 0.4126 - val_precision: 0.5659 - val_recall: 0.4765\n",
            "Epoch 13/30\n",
            "\u001b[1m125/125\u001b[0m \u001b[32m━━━━━━━━━━━━━━━━━━━━\u001b[0m\u001b[37m\u001b[0m \u001b[1m5s\u001b[0m 40ms/step - accuracy: 0.5926 - loss: 0.1188 - precision: 0.8926 - recall: 0.8050 - val_accuracy: 0.3737 - val_loss: 0.4409 - val_precision: 0.5659 - val_recall: 0.4905\n",
            "Epoch 14/30\n",
            "\u001b[1m125/125\u001b[0m \u001b[32m━━━━━━━━━━━━━━━━━━━━\u001b[0m\u001b[37m\u001b[0m \u001b[1m5s\u001b[0m 37ms/step - accuracy: 0.5792 - loss: 0.1083 - precision: 0.8982 - recall: 0.8263 - val_accuracy: 0.3793 - val_loss: 0.4611 - val_precision: 0.5542 - val_recall: 0.4978\n",
            "Epoch 15/30\n",
            "\u001b[1m125/125\u001b[0m \u001b[32m━━━━━━━━━━━━━━━━━━━━\u001b[0m\u001b[37m\u001b[0m \u001b[1m5s\u001b[0m 42ms/step - accuracy: 0.5755 - loss: 0.1002 - precision: 0.9094 - recall: 0.8430 - val_accuracy: 0.3712 - val_loss: 0.4970 - val_precision: 0.5568 - val_recall: 0.4922\n",
            "Epoch 16/30\n",
            "\u001b[1m125/125\u001b[0m \u001b[32m━━━━━━━━━━━━━━━━━━━━\u001b[0m\u001b[37m\u001b[0m \u001b[1m10s\u001b[0m 36ms/step - accuracy: 0.5751 - loss: 0.0914 - precision: 0.9170 - recall: 0.8575 - val_accuracy: 0.3497 - val_loss: 0.5274 - val_precision: 0.5463 - val_recall: 0.4956\n"
          ]
        }
      ],
      "source": [
        "history = model.fit(\n",
        "    X_train, y_train,\n",
        "    epochs=30,\n",
        "    batch_size=64,\n",
        "    validation_data=(X_test, y_test),\n",
        "    callbacks=[\n",
        "        tf.keras.callbacks.EarlyStopping(patience=10, restore_best_weights=True)\n",
        "    ]\n",
        ")"
      ]
    },
    {
      "cell_type": "code",
      "execution_count": null,
      "metadata": {
        "colab": {
          "base_uri": "https://localhost:8080/",
          "height": 839
        },
        "execution": {
          "iopub.execute_input": "2025-04-19T14:42:13.274238Z",
          "iopub.status.busy": "2025-04-19T14:42:13.27365Z",
          "iopub.status.idle": "2025-04-19T14:42:15.528304Z",
          "shell.execute_reply": "2025-04-19T14:42:15.527493Z",
          "shell.execute_reply.started": "2025-04-19T14:42:13.274214Z"
        },
        "id": "5xX8M5ktZ3jP",
        "outputId": "dea3ec5f-0695-4cf0-fddd-20c147f21df9",
        "trusted": true
      },
      "outputs": [
        {
          "data": {
            "image/png": "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",
            "text/plain": [
              "<Figure size 1200x400 with 2 Axes>"
            ]
          },
          "metadata": {},
          "output_type": "display_data"
        },
        {
          "name": "stdout",
          "output_type": "stream",
          "text": [
            "\u001b[1m63/63\u001b[0m \u001b[32m━━━━━━━━━━━━━━━━━━━━\u001b[0m\u001b[37m\u001b[0m \u001b[1m2s\u001b[0m 26ms/step\n",
            "                 precision    recall  f1-score   support\n",
            "\n",
            "         Action       0.70      0.50      0.58       476\n",
            "      Adventure       0.50      0.33      0.39       326\n",
            "      Animation       0.45      0.26      0.33       191\n",
            "         Comedy       0.60      0.56      0.58       721\n",
            "          Crime       0.50      0.39      0.44       333\n",
            "          Drama       0.62      0.63      0.62       905\n",
            "         Family       0.55      0.30      0.39       233\n",
            "        Fantasy       0.48      0.11      0.18       228\n",
            "        History       0.00      0.00      0.00        86\n",
            "         Horror       0.69      0.32      0.43       297\n",
            "          Music       0.00      0.00      0.00        55\n",
            "        Mystery       0.43      0.03      0.06       200\n",
            "        Romance       0.46      0.22      0.30       360\n",
            "Science Fiction       0.73      0.27      0.39       248\n",
            "       TV Movie       0.00      0.00      0.00        29\n",
            "       Thriller       0.58      0.51      0.54       563\n",
            "            War       0.00      0.00      0.00        53\n",
            "        Western       0.00      0.00      0.00        33\n",
            "\n",
            "      micro avg       0.59      0.40      0.48      5337\n",
            "      macro avg       0.41      0.25      0.29      5337\n",
            "   weighted avg       0.55      0.40      0.45      5337\n",
            "    samples avg       0.57      0.44      0.46      5337\n",
            "\n"
          ]
        }
      ],
      "source": [
        "import matplotlib.pyplot as plt\n",
        "\n",
        "# Métricas de entrenamiento de la gráfica\n",
        "plt.figure(figsize=(12, 4))\n",
        "plt.subplot(1, 2, 1)\n",
        "plt.plot(history.history['loss'], label='Train Loss')\n",
        "plt.plot(history.history['val_loss'], label='Validation Loss')\n",
        "plt.legend()\n",
        "\n",
        "plt.subplot(1, 2, 2)\n",
        "plt.plot(history.history['accuracy'], label='Train Accuracy')\n",
        "plt.plot(history.history['val_accuracy'], label='Validation Accuracy')\n",
        "plt.legend()\n",
        "plt.show()\n",
        "\n",
        "# Evaluación de prueba\n",
        "y_pred = model.predict(X_test) > 0.5  # 0.5 threshold\n",
        "print(classification_report(y_test, y_pred, target_names=mlb.classes_))"
      ]
    },
    {
      "cell_type": "code",
      "execution_count": null,
      "metadata": {
        "colab": {
          "base_uri": "https://localhost:8080/"
        },
        "execution": {
          "iopub.execute_input": "2025-04-19T14:42:41.553219Z",
          "iopub.status.busy": "2025-04-19T14:42:41.552709Z",
          "iopub.status.idle": "2025-04-19T14:42:41.64895Z",
          "shell.execute_reply": "2025-04-19T14:42:41.648418Z",
          "shell.execute_reply.started": "2025-04-19T14:42:41.553197Z"
        },
        "id": "225AtHQ4Z3jP",
        "outputId": "e913fe10-9032-456f-bc24-ed17586ec416",
        "trusted": true
      },
      "outputs": [
        {
          "name": "stdout",
          "output_type": "stream",
          "text": [
            "\u001b[1m1/1\u001b[0m \u001b[32m━━━━━━━━━━━━━━━━━━━━\u001b[0m\u001b[37m\u001b[0m \u001b[1m0s\u001b[0m 120ms/step\n",
            "[('Comedy', 0.51), ('Horror', 0.5)]\n"
          ]
        }
      ],
      "source": [
        "def predict_genres(text, threshold=0.3):\n",
        "    cleaned = clean_text(text)\n",
        "    seq = tokenizer.texts_to_sequences([cleaned])\n",
        "    pad = pad_sequences(seq, maxlen=200)\n",
        "    pred = model.predict(pad)[0]\n",
        "\n",
        "    return [(genre, round(float(prob), 2))\n",
        "            for genre, prob in zip(mlb.classes_, pred)\n",
        "            if prob > threshold]\n",
        "\n",
        "# Predicción de prueba\n",
        "sample_text = \"A space adventure about astronauts exploring a mysterious alien planet\"\n",
        "print(predict_genres(sample_text))"
      ]
    },
    {
      "cell_type": "code",
      "execution_count": null,
      "metadata": {
        "execution": {
          "iopub.execute_input": "2025-04-19T14:44:45.207952Z",
          "iopub.status.busy": "2025-04-19T14:44:45.20768Z",
          "iopub.status.idle": "2025-04-19T14:44:46.341595Z",
          "shell.execute_reply": "2025-04-19T14:44:46.341006Z",
          "shell.execute_reply.started": "2025-04-19T14:44:45.20793Z"
        },
        "id": "1-B5gVTMZ3jP",
        "trusted": true
      },
      "outputs": [],
      "source": [
        "from sklearn.feature_extraction.text import TfidfVectorizer\n",
        "from sklearn.preprocessing import MultiLabelBinarizer\n",
        "from sklearn.model_selection import train_test_split\n",
        "\n",
        "# Vectorización TF-IDF\n",
        "tfidf = TfidfVectorizer(max_features=5000, ngram_range=(1,2))\n",
        "X = tfidf.fit_transform(movies_df['cleaned_overview'])\n",
        "\n",
        "# Codificación de género multietiqueta\n",
        "mlb = MultiLabelBinarizer()\n",
        "y = mlb.fit_transform(movies_df['genre_names'])\n",
        "\n",
        "# División de prueba\n",
        "X_train, X_test, y_train, y_test = train_test_split(X, y, test_size=0.2, random_state=42)\n"
      ]
    },
    {
      "cell_type": "code",
      "execution_count": null,
      "metadata": {
        "colab": {
          "base_uri": "https://localhost:8080/",
          "height": 166
        },
        "execution": {
          "iopub.execute_input": "2025-04-19T14:44:55.229013Z",
          "iopub.status.busy": "2025-04-19T14:44:55.228343Z",
          "iopub.status.idle": "2025-04-19T14:45:07.655082Z",
          "shell.execute_reply": "2025-04-19T14:45:07.654407Z",
          "shell.execute_reply.started": "2025-04-19T14:44:55.228991Z"
        },
        "id": "eOKIZ_ecZ3jQ",
        "outputId": "0f524a7e-3800-4bed-b126-4483c55d1332",
        "trusted": true
      },
      "outputs": [
        {
          "data": {
            "text/html": [
              "<style>#sk-container-id-1 {\n",
              "  /* Definition of color scheme common for light and dark mode */\n",
              "  --sklearn-color-text: #000;\n",
              "  --sklearn-color-text-muted: #666;\n",
              "  --sklearn-color-line: gray;\n",
              "  /* Definition of color scheme for unfitted estimators */\n",
              "  --sklearn-color-unfitted-level-0: #fff5e6;\n",
              "  --sklearn-color-unfitted-level-1: #f6e4d2;\n",
              "  --sklearn-color-unfitted-level-2: #ffe0b3;\n",
              "  --sklearn-color-unfitted-level-3: chocolate;\n",
              "  /* Definition of color scheme for fitted estimators */\n",
              "  --sklearn-color-fitted-level-0: #f0f8ff;\n",
              "  --sklearn-color-fitted-level-1: #d4ebff;\n",
              "  --sklearn-color-fitted-level-2: #b3dbfd;\n",
              "  --sklearn-color-fitted-level-3: cornflowerblue;\n",
              "\n",
              "  /* Specific color for light theme */\n",
              "  --sklearn-color-text-on-default-background: var(--sg-text-color, var(--theme-code-foreground, var(--jp-content-font-color1, black)));\n",
              "  --sklearn-color-background: var(--sg-background-color, var(--theme-background, var(--jp-layout-color0, white)));\n",
              "  --sklearn-color-border-box: var(--sg-text-color, var(--theme-code-foreground, var(--jp-content-font-color1, black)));\n",
              "  --sklearn-color-icon: #696969;\n",
              "\n",
              "  @media (prefers-color-scheme: dark) {\n",
              "    /* Redefinition of color scheme for dark theme */\n",
              "    --sklearn-color-text-on-default-background: var(--sg-text-color, var(--theme-code-foreground, var(--jp-content-font-color1, white)));\n",
              "    --sklearn-color-background: var(--sg-background-color, var(--theme-background, var(--jp-layout-color0, #111)));\n",
              "    --sklearn-color-border-box: var(--sg-text-color, var(--theme-code-foreground, var(--jp-content-font-color1, white)));\n",
              "    --sklearn-color-icon: #878787;\n",
              "  }\n",
              "}\n",
              "\n",
              "#sk-container-id-1 {\n",
              "  color: var(--sklearn-color-text);\n",
              "}\n",
              "\n",
              "#sk-container-id-1 pre {\n",
              "  padding: 0;\n",
              "}\n",
              "\n",
              "#sk-container-id-1 input.sk-hidden--visually {\n",
              "  border: 0;\n",
              "  clip: rect(1px 1px 1px 1px);\n",
              "  clip: rect(1px, 1px, 1px, 1px);\n",
              "  height: 1px;\n",
              "  margin: -1px;\n",
              "  overflow: hidden;\n",
              "  padding: 0;\n",
              "  position: absolute;\n",
              "  width: 1px;\n",
              "}\n",
              "\n",
              "#sk-container-id-1 div.sk-dashed-wrapped {\n",
              "  border: 1px dashed var(--sklearn-color-line);\n",
              "  margin: 0 0.4em 0.5em 0.4em;\n",
              "  box-sizing: border-box;\n",
              "  padding-bottom: 0.4em;\n",
              "  background-color: var(--sklearn-color-background);\n",
              "}\n",
              "\n",
              "#sk-container-id-1 div.sk-container {\n",
              "  /* jupyter's `normalize.less` sets `[hidden] { display: none; }`\n",
              "     but bootstrap.min.css set `[hidden] { display: none !important; }`\n",
              "     so we also need the `!important` here to be able to override the\n",
              "     default hidden behavior on the sphinx rendered scikit-learn.org.\n",
              "     See: https://github.com/scikit-learn/scikit-learn/issues/21755 */\n",
              "  display: inline-block !important;\n",
              "  position: relative;\n",
              "}\n",
              "\n",
              "#sk-container-id-1 div.sk-text-repr-fallback {\n",
              "  display: none;\n",
              "}\n",
              "\n",
              "div.sk-parallel-item,\n",
              "div.sk-serial,\n",
              "div.sk-item {\n",
              "  /* draw centered vertical line to link estimators */\n",
              "  background-image: linear-gradient(var(--sklearn-color-text-on-default-background), var(--sklearn-color-text-on-default-background));\n",
              "  background-size: 2px 100%;\n",
              "  background-repeat: no-repeat;\n",
              "  background-position: center center;\n",
              "}\n",
              "\n",
              "/* Parallel-specific style estimator block */\n",
              "\n",
              "#sk-container-id-1 div.sk-parallel-item::after {\n",
              "  content: \"\";\n",
              "  width: 100%;\n",
              "  border-bottom: 2px solid var(--sklearn-color-text-on-default-background);\n",
              "  flex-grow: 1;\n",
              "}\n",
              "\n",
              "#sk-container-id-1 div.sk-parallel {\n",
              "  display: flex;\n",
              "  align-items: stretch;\n",
              "  justify-content: center;\n",
              "  background-color: var(--sklearn-color-background);\n",
              "  position: relative;\n",
              "}\n",
              "\n",
              "#sk-container-id-1 div.sk-parallel-item {\n",
              "  display: flex;\n",
              "  flex-direction: column;\n",
              "}\n",
              "\n",
              "#sk-container-id-1 div.sk-parallel-item:first-child::after {\n",
              "  align-self: flex-end;\n",
              "  width: 50%;\n",
              "}\n",
              "\n",
              "#sk-container-id-1 div.sk-parallel-item:last-child::after {\n",
              "  align-self: flex-start;\n",
              "  width: 50%;\n",
              "}\n",
              "\n",
              "#sk-container-id-1 div.sk-parallel-item:only-child::after {\n",
              "  width: 0;\n",
              "}\n",
              "\n",
              "/* Serial-specific style estimator block */\n",
              "\n",
              "#sk-container-id-1 div.sk-serial {\n",
              "  display: flex;\n",
              "  flex-direction: column;\n",
              "  align-items: center;\n",
              "  background-color: var(--sklearn-color-background);\n",
              "  padding-right: 1em;\n",
              "  padding-left: 1em;\n",
              "}\n",
              "\n",
              "\n",
              "/* Toggleable style: style used for estimator/Pipeline/ColumnTransformer box that is\n",
              "clickable and can be expanded/collapsed.\n",
              "- Pipeline and ColumnTransformer use this feature and define the default style\n",
              "- Estimators will overwrite some part of the style using the `sk-estimator` class\n",
              "*/\n",
              "\n",
              "/* Pipeline and ColumnTransformer style (default) */\n",
              "\n",
              "#sk-container-id-1 div.sk-toggleable {\n",
              "  /* Default theme specific background. It is overwritten whether we have a\n",
              "  specific estimator or a Pipeline/ColumnTransformer */\n",
              "  background-color: var(--sklearn-color-background);\n",
              "}\n",
              "\n",
              "/* Toggleable label */\n",
              "#sk-container-id-1 label.sk-toggleable__label {\n",
              "  cursor: pointer;\n",
              "  display: flex;\n",
              "  width: 100%;\n",
              "  margin-bottom: 0;\n",
              "  padding: 0.5em;\n",
              "  box-sizing: border-box;\n",
              "  text-align: center;\n",
              "  align-items: start;\n",
              "  justify-content: space-between;\n",
              "  gap: 0.5em;\n",
              "}\n",
              "\n",
              "#sk-container-id-1 label.sk-toggleable__label .caption {\n",
              "  font-size: 0.6rem;\n",
              "  font-weight: lighter;\n",
              "  color: var(--sklearn-color-text-muted);\n",
              "}\n",
              "\n",
              "#sk-container-id-1 label.sk-toggleable__label-arrow:before {\n",
              "  /* Arrow on the left of the label */\n",
              "  content: \"▸\";\n",
              "  float: left;\n",
              "  margin-right: 0.25em;\n",
              "  color: var(--sklearn-color-icon);\n",
              "}\n",
              "\n",
              "#sk-container-id-1 label.sk-toggleable__label-arrow:hover:before {\n",
              "  color: var(--sklearn-color-text);\n",
              "}\n",
              "\n",
              "/* Toggleable content - dropdown */\n",
              "\n",
              "#sk-container-id-1 div.sk-toggleable__content {\n",
              "  max-height: 0;\n",
              "  max-width: 0;\n",
              "  overflow: hidden;\n",
              "  text-align: left;\n",
              "  /* unfitted */\n",
              "  background-color: var(--sklearn-color-unfitted-level-0);\n",
              "}\n",
              "\n",
              "#sk-container-id-1 div.sk-toggleable__content.fitted {\n",
              "  /* fitted */\n",
              "  background-color: var(--sklearn-color-fitted-level-0);\n",
              "}\n",
              "\n",
              "#sk-container-id-1 div.sk-toggleable__content pre {\n",
              "  margin: 0.2em;\n",
              "  border-radius: 0.25em;\n",
              "  color: var(--sklearn-color-text);\n",
              "  /* unfitted */\n",
              "  background-color: var(--sklearn-color-unfitted-level-0);\n",
              "}\n",
              "\n",
              "#sk-container-id-1 div.sk-toggleable__content.fitted pre {\n",
              "  /* unfitted */\n",
              "  background-color: var(--sklearn-color-fitted-level-0);\n",
              "}\n",
              "\n",
              "#sk-container-id-1 input.sk-toggleable__control:checked~div.sk-toggleable__content {\n",
              "  /* Expand drop-down */\n",
              "  max-height: 200px;\n",
              "  max-width: 100%;\n",
              "  overflow: auto;\n",
              "}\n",
              "\n",
              "#sk-container-id-1 input.sk-toggleable__control:checked~label.sk-toggleable__label-arrow:before {\n",
              "  content: \"▾\";\n",
              "}\n",
              "\n",
              "/* Pipeline/ColumnTransformer-specific style */\n",
              "\n",
              "#sk-container-id-1 div.sk-label input.sk-toggleable__control:checked~label.sk-toggleable__label {\n",
              "  color: var(--sklearn-color-text);\n",
              "  background-color: var(--sklearn-color-unfitted-level-2);\n",
              "}\n",
              "\n",
              "#sk-container-id-1 div.sk-label.fitted input.sk-toggleable__control:checked~label.sk-toggleable__label {\n",
              "  background-color: var(--sklearn-color-fitted-level-2);\n",
              "}\n",
              "\n",
              "/* Estimator-specific style */\n",
              "\n",
              "/* Colorize estimator box */\n",
              "#sk-container-id-1 div.sk-estimator input.sk-toggleable__control:checked~label.sk-toggleable__label {\n",
              "  /* unfitted */\n",
              "  background-color: var(--sklearn-color-unfitted-level-2);\n",
              "}\n",
              "\n",
              "#sk-container-id-1 div.sk-estimator.fitted input.sk-toggleable__control:checked~label.sk-toggleable__label {\n",
              "  /* fitted */\n",
              "  background-color: var(--sklearn-color-fitted-level-2);\n",
              "}\n",
              "\n",
              "#sk-container-id-1 div.sk-label label.sk-toggleable__label,\n",
              "#sk-container-id-1 div.sk-label label {\n",
              "  /* The background is the default theme color */\n",
              "  color: var(--sklearn-color-text-on-default-background);\n",
              "}\n",
              "\n",
              "/* On hover, darken the color of the background */\n",
              "#sk-container-id-1 div.sk-label:hover label.sk-toggleable__label {\n",
              "  color: var(--sklearn-color-text);\n",
              "  background-color: var(--sklearn-color-unfitted-level-2);\n",
              "}\n",
              "\n",
              "/* Label box, darken color on hover, fitted */\n",
              "#sk-container-id-1 div.sk-label.fitted:hover label.sk-toggleable__label.fitted {\n",
              "  color: var(--sklearn-color-text);\n",
              "  background-color: var(--sklearn-color-fitted-level-2);\n",
              "}\n",
              "\n",
              "/* Estimator label */\n",
              "\n",
              "#sk-container-id-1 div.sk-label label {\n",
              "  font-family: monospace;\n",
              "  font-weight: bold;\n",
              "  display: inline-block;\n",
              "  line-height: 1.2em;\n",
              "}\n",
              "\n",
              "#sk-container-id-1 div.sk-label-container {\n",
              "  text-align: center;\n",
              "}\n",
              "\n",
              "/* Estimator-specific */\n",
              "#sk-container-id-1 div.sk-estimator {\n",
              "  font-family: monospace;\n",
              "  border: 1px dotted var(--sklearn-color-border-box);\n",
              "  border-radius: 0.25em;\n",
              "  box-sizing: border-box;\n",
              "  margin-bottom: 0.5em;\n",
              "  /* unfitted */\n",
              "  background-color: var(--sklearn-color-unfitted-level-0);\n",
              "}\n",
              "\n",
              "#sk-container-id-1 div.sk-estimator.fitted {\n",
              "  /* fitted */\n",
              "  background-color: var(--sklearn-color-fitted-level-0);\n",
              "}\n",
              "\n",
              "/* on hover */\n",
              "#sk-container-id-1 div.sk-estimator:hover {\n",
              "  /* unfitted */\n",
              "  background-color: var(--sklearn-color-unfitted-level-2);\n",
              "}\n",
              "\n",
              "#sk-container-id-1 div.sk-estimator.fitted:hover {\n",
              "  /* fitted */\n",
              "  background-color: var(--sklearn-color-fitted-level-2);\n",
              "}\n",
              "\n",
              "/* Specification for estimator info (e.g. \"i\" and \"?\") */\n",
              "\n",
              "/* Common style for \"i\" and \"?\" */\n",
              "\n",
              ".sk-estimator-doc-link,\n",
              "a:link.sk-estimator-doc-link,\n",
              "a:visited.sk-estimator-doc-link {\n",
              "  float: right;\n",
              "  font-size: smaller;\n",
              "  line-height: 1em;\n",
              "  font-family: monospace;\n",
              "  background-color: var(--sklearn-color-background);\n",
              "  border-radius: 1em;\n",
              "  height: 1em;\n",
              "  width: 1em;\n",
              "  text-decoration: none !important;\n",
              "  margin-left: 0.5em;\n",
              "  text-align: center;\n",
              "  /* unfitted */\n",
              "  border: var(--sklearn-color-unfitted-level-1) 1pt solid;\n",
              "  color: var(--sklearn-color-unfitted-level-1);\n",
              "}\n",
              "\n",
              ".sk-estimator-doc-link.fitted,\n",
              "a:link.sk-estimator-doc-link.fitted,\n",
              "a:visited.sk-estimator-doc-link.fitted {\n",
              "  /* fitted */\n",
              "  border: var(--sklearn-color-fitted-level-1) 1pt solid;\n",
              "  color: var(--sklearn-color-fitted-level-1);\n",
              "}\n",
              "\n",
              "/* On hover */\n",
              "div.sk-estimator:hover .sk-estimator-doc-link:hover,\n",
              ".sk-estimator-doc-link:hover,\n",
              "div.sk-label-container:hover .sk-estimator-doc-link:hover,\n",
              ".sk-estimator-doc-link:hover {\n",
              "  /* unfitted */\n",
              "  background-color: var(--sklearn-color-unfitted-level-3);\n",
              "  color: var(--sklearn-color-background);\n",
              "  text-decoration: none;\n",
              "}\n",
              "\n",
              "div.sk-estimator.fitted:hover .sk-estimator-doc-link.fitted:hover,\n",
              ".sk-estimator-doc-link.fitted:hover,\n",
              "div.sk-label-container:hover .sk-estimator-doc-link.fitted:hover,\n",
              ".sk-estimator-doc-link.fitted:hover {\n",
              "  /* fitted */\n",
              "  background-color: var(--sklearn-color-fitted-level-3);\n",
              "  color: var(--sklearn-color-background);\n",
              "  text-decoration: none;\n",
              "}\n",
              "\n",
              "/* Span, style for the box shown on hovering the info icon */\n",
              ".sk-estimator-doc-link span {\n",
              "  display: none;\n",
              "  z-index: 9999;\n",
              "  position: relative;\n",
              "  font-weight: normal;\n",
              "  right: .2ex;\n",
              "  padding: .5ex;\n",
              "  margin: .5ex;\n",
              "  width: min-content;\n",
              "  min-width: 20ex;\n",
              "  max-width: 50ex;\n",
              "  color: var(--sklearn-color-text);\n",
              "  box-shadow: 2pt 2pt 4pt #999;\n",
              "  /* unfitted */\n",
              "  background: var(--sklearn-color-unfitted-level-0);\n",
              "  border: .5pt solid var(--sklearn-color-unfitted-level-3);\n",
              "}\n",
              "\n",
              ".sk-estimator-doc-link.fitted span {\n",
              "  /* fitted */\n",
              "  background: var(--sklearn-color-fitted-level-0);\n",
              "  border: var(--sklearn-color-fitted-level-3);\n",
              "}\n",
              "\n",
              ".sk-estimator-doc-link:hover span {\n",
              "  display: block;\n",
              "}\n",
              "\n",
              "/* \"?\"-specific style due to the `<a>` HTML tag */\n",
              "\n",
              "#sk-container-id-1 a.estimator_doc_link {\n",
              "  float: right;\n",
              "  font-size: 1rem;\n",
              "  line-height: 1em;\n",
              "  font-family: monospace;\n",
              "  background-color: var(--sklearn-color-background);\n",
              "  border-radius: 1rem;\n",
              "  height: 1rem;\n",
              "  width: 1rem;\n",
              "  text-decoration: none;\n",
              "  /* unfitted */\n",
              "  color: var(--sklearn-color-unfitted-level-1);\n",
              "  border: var(--sklearn-color-unfitted-level-1) 1pt solid;\n",
              "}\n",
              "\n",
              "#sk-container-id-1 a.estimator_doc_link.fitted {\n",
              "  /* fitted */\n",
              "  border: var(--sklearn-color-fitted-level-1) 1pt solid;\n",
              "  color: var(--sklearn-color-fitted-level-1);\n",
              "}\n",
              "\n",
              "/* On hover */\n",
              "#sk-container-id-1 a.estimator_doc_link:hover {\n",
              "  /* unfitted */\n",
              "  background-color: var(--sklearn-color-unfitted-level-3);\n",
              "  color: var(--sklearn-color-background);\n",
              "  text-decoration: none;\n",
              "}\n",
              "\n",
              "#sk-container-id-1 a.estimator_doc_link.fitted:hover {\n",
              "  /* fitted */\n",
              "  background-color: var(--sklearn-color-fitted-level-3);\n",
              "}\n",
              "</style><div id=\"sk-container-id-1\" class=\"sk-top-container\"><div class=\"sk-text-repr-fallback\"><pre>MultiOutputClassifier(estimator=RandomForestClassifier(class_weight=&#x27;balanced&#x27;,\n",
              "                                                       max_depth=15,\n",
              "                                                       min_samples_split=5,\n",
              "                                                       n_estimators=200,\n",
              "                                                       n_jobs=-1,\n",
              "                                                       random_state=42))</pre><b>In a Jupyter environment, please rerun this cell to show the HTML representation or trust the notebook. <br />On GitHub, the HTML representation is unable to render, please try loading this page with nbviewer.org.</b></div><div class=\"sk-container\" hidden><div class=\"sk-item sk-dashed-wrapped\"><div class=\"sk-label-container\"><div class=\"sk-label fitted sk-toggleable\"><input class=\"sk-toggleable__control sk-hidden--visually\" id=\"sk-estimator-id-1\" type=\"checkbox\" ><label for=\"sk-estimator-id-1\" class=\"sk-toggleable__label fitted sk-toggleable__label-arrow\"><div><div>MultiOutputClassifier</div></div><div><a class=\"sk-estimator-doc-link fitted\" rel=\"noreferrer\" target=\"_blank\" href=\"https://scikit-learn.org/1.6/modules/generated/sklearn.multioutput.MultiOutputClassifier.html\">?<span>Documentation for MultiOutputClassifier</span></a><span class=\"sk-estimator-doc-link fitted\">i<span>Fitted</span></span></div></label><div class=\"sk-toggleable__content fitted\"><pre>MultiOutputClassifier(estimator=RandomForestClassifier(class_weight=&#x27;balanced&#x27;,\n",
              "                                                       max_depth=15,\n",
              "                                                       min_samples_split=5,\n",
              "                                                       n_estimators=200,\n",
              "                                                       n_jobs=-1,\n",
              "                                                       random_state=42))</pre></div> </div></div><div class=\"sk-parallel\"><div class=\"sk-parallel-item\"><div class=\"sk-item\"><div class=\"sk-label-container\"><div class=\"sk-label fitted sk-toggleable\"><input class=\"sk-toggleable__control sk-hidden--visually\" id=\"sk-estimator-id-2\" type=\"checkbox\" ><label for=\"sk-estimator-id-2\" class=\"sk-toggleable__label fitted sk-toggleable__label-arrow\"><div><div>estimator: RandomForestClassifier</div></div></label><div class=\"sk-toggleable__content fitted\"><pre>RandomForestClassifier(class_weight=&#x27;balanced&#x27;, max_depth=15,\n",
              "                       min_samples_split=5, n_estimators=200, n_jobs=-1,\n",
              "                       random_state=42)</pre></div> </div></div><div class=\"sk-serial\"><div class=\"sk-item\"><div class=\"sk-estimator fitted sk-toggleable\"><input class=\"sk-toggleable__control sk-hidden--visually\" id=\"sk-estimator-id-3\" type=\"checkbox\" ><label for=\"sk-estimator-id-3\" class=\"sk-toggleable__label fitted sk-toggleable__label-arrow\"><div><div>RandomForestClassifier</div></div><div><a class=\"sk-estimator-doc-link fitted\" rel=\"noreferrer\" target=\"_blank\" href=\"https://scikit-learn.org/1.6/modules/generated/sklearn.ensemble.RandomForestClassifier.html\">?<span>Documentation for RandomForestClassifier</span></a></div></label><div class=\"sk-toggleable__content fitted\"><pre>RandomForestClassifier(class_weight=&#x27;balanced&#x27;, max_depth=15,\n",
              "                       min_samples_split=5, n_estimators=200, n_jobs=-1,\n",
              "                       random_state=42)</pre></div> </div></div></div></div></div></div></div></div></div>"
            ],
            "text/plain": [
              "MultiOutputClassifier(estimator=RandomForestClassifier(class_weight='balanced',\n",
              "                                                       max_depth=15,\n",
              "                                                       min_samples_split=5,\n",
              "                                                       n_estimators=200,\n",
              "                                                       n_jobs=-1,\n",
              "                                                       random_state=42))"
            ]
          },
          "execution_count": 16,
          "metadata": {},
          "output_type": "execute_result"
        }
      ],
      "source": [
        "from sklearn.ensemble import RandomForestClassifier\n",
        "from sklearn.multioutput import MultiOutputClassifier\n",
        "\n",
        "# Crear bosque aleatorio base\n",
        "rf = RandomForestClassifier(\n",
        "    n_estimators=200,\n",
        "    max_depth=15,\n",
        "    min_samples_split=5,\n",
        "    class_weight='balanced',\n",
        "    n_jobs=-1,\n",
        "    random_state=42\n",
        ")\n",
        "\n",
        "# Múltiples salidas\n",
        "model = MultiOutputClassifier(rf)\n",
        "model.fit(X_train, y_train)"
      ]
    },
    {
      "cell_type": "code",
      "execution_count": null,
      "metadata": {
        "colab": {
          "base_uri": "https://localhost:8080/"
        },
        "execution": {
          "iopub.execute_input": "2025-04-19T14:45:14.092495Z",
          "iopub.status.busy": "2025-04-19T14:45:14.091916Z",
          "iopub.status.idle": "2025-04-19T14:45:15.420456Z",
          "shell.execute_reply": "2025-04-19T14:45:15.419649Z",
          "shell.execute_reply.started": "2025-04-19T14:45:14.092471Z"
        },
        "id": "J-UN65bhZ3jQ",
        "outputId": "d13b933d-a8b4-4d8c-dcc6-f598505f3775",
        "trusted": true
      },
      "outputs": [
        {
          "name": "stdout",
          "output_type": "stream",
          "text": [
            "                 precision    recall  f1-score   support\n",
            "\n",
            "         Action       0.55      0.64      0.59       476\n",
            "      Adventure       0.41      0.54      0.47       326\n",
            "      Animation       0.44      0.50      0.47       191\n",
            "         Comedy       0.60      0.63      0.62       721\n",
            "          Crime       0.57      0.62      0.60       333\n",
            "          Drama       0.64      0.63      0.64       905\n",
            "         Family       0.48      0.55      0.51       233\n",
            "        Fantasy       0.39      0.48      0.43       228\n",
            "        History       0.28      0.37      0.32        86\n",
            "         Horror       0.55      0.60      0.58       297\n",
            "          Music       0.52      0.29      0.37        55\n",
            "        Mystery       0.38      0.47      0.42       200\n",
            "        Romance       0.52      0.55      0.53       360\n",
            "Science Fiction       0.64      0.63      0.64       248\n",
            "       TV Movie       0.00      0.00      0.00        29\n",
            "       Thriller       0.57      0.62      0.59       563\n",
            "            War       0.50      0.45      0.48        53\n",
            "        Western       0.71      0.15      0.25        33\n",
            "\n",
            "      micro avg       0.54      0.58      0.56      5337\n",
            "      macro avg       0.49      0.49      0.47      5337\n",
            "   weighted avg       0.54      0.58      0.56      5337\n",
            "    samples avg       0.56      0.61      0.54      5337\n",
            "\n",
            "Overall Accuracy: 0.08\n"
          ]
        }
      ],
      "source": [
        "from sklearn.metrics import classification_report, accuracy_score\n",
        "\n",
        "# Predicciones\n",
        "y_pred = model.predict(X_test)\n",
        "\n",
        "# Informe de clasificación\n",
        "print(classification_report(y_test, y_pred, target_names=mlb.classes_))\n",
        "\n",
        "# Exactitud\n",
        "print(f\"Overall Accuracy: {accuracy_score(y_test, y_pred):.2f}\")"
      ]
    },
    {
      "cell_type": "code",
      "execution_count": null,
      "metadata": {
        "colab": {
          "base_uri": "https://localhost:8080/"
        },
        "execution": {
          "iopub.execute_input": "2025-04-19T14:45:30.003527Z",
          "iopub.status.busy": "2025-04-19T14:45:30.003236Z",
          "iopub.status.idle": "2025-04-19T14:45:30.650343Z",
          "shell.execute_reply": "2025-04-19T14:45:30.649521Z",
          "shell.execute_reply.started": "2025-04-19T14:45:30.003506Z"
        },
        "id": "HF4422ZpZ3jQ",
        "outputId": "ebf0ee9e-a225-491c-eedd-d557595f11e3",
        "trusted": true
      },
      "outputs": [
        {
          "name": "stdout",
          "output_type": "stream",
          "text": [
            "[('Action', 0.44)]\n"
          ]
        }
      ],
      "source": [
        "def predict_genres_rf(text, threshold=0.3):\n",
        "    cleaned = clean_text(text)\n",
        "    X = tfidf.transform([cleaned])\n",
        "    probas = np.array([est.predict_proba(X)[:,1] for est in model.estimators_]).mean(axis=0)\n",
        "    return [(genre, round(float(prob), 2))\n",
        "            for genre, prob in zip(mlb.classes_, probas)\n",
        "            if prob > threshold]\n",
        "\n",
        "# Ejemplo de uso\n",
        "sample_text = \"A hacker discovers a world of digital conspiracy\"\n",
        "print(predict_genres_rf(sample_text))"
      ]
    }
  ],
  "metadata": {
    "accelerator": "GPU",
    "colab": {
      "gpuType": "T4",
      "name": "IMDb Movie Genre Classification|LR, LSTM & RF",
      "provenance": []
    },
    "kaggle": {
      "accelerator": "gpu",
      "dataSources": [
        {
          "datasetId": 6969184,
          "sourceId": 11167830,
          "sourceType": "datasetVersion"
        }
      ],
      "dockerImageVersionId": 31011,
      "isGpuEnabled": true,
      "isInternetEnabled": true,
      "language": "python",
      "sourceType": "notebook"
    },
    "kernelspec": {
      "display_name": "Python 3",
      "name": "python3"
    },
    "language_info": {
      "codemirror_mode": {
        "name": "ipython",
        "version": 3
      },
      "file_extension": ".py",
      "mimetype": "text/x-python",
      "name": "python",
      "nbconvert_exporter": "python",
      "pygments_lexer": "ipython3",
      "version": "3.11.11"
    }
  },
  "nbformat": 4,
  "nbformat_minor": 0
}
